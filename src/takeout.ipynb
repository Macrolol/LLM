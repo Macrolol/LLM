{
  "cells": [
    {
      "cell_type": "code",
      "execution_count": 31,
      "metadata": {
        "colab": {
          "base_uri": "https://localhost:8080/"
        },
        "id": "IJojoKSzcSIV",
        "outputId": "e9f93711-9847-486a-d7d5-7ab74f1364d6"
      },
      "outputs": [
        {
          "name": "stdout",
          "output_type": "stream",
          "text": [
            "Looking in indexes: https://pypi.org/simple, https://us-python.pkg.dev/colab-wheels/public/simple/\n",
            "Requirement already satisfied: lxml in /usr/local/lib/python3.10/dist-packages (4.9.2)\n",
            "Collecting cssselect\n",
            "  Downloading cssselect-1.2.0-py2.py3-none-any.whl (18 kB)\n",
            "Installing collected packages: cssselect\n",
            "Successfully installed cssselect-1.2.0\n"
          ]
        }
      ],
      "source": [
        "!pip install --upgrade lxml cssselect"
      ]
    },
    {
      "cell_type": "code",
      "execution_count": 7,
      "metadata": {
        "id": "2oNga0s2UgRd"
      },
      "outputs": [],
      "source": [
        "secrets_file = '/content/drive/MyDrive/Colab Notebooks/secrets.ini'"
      ]
    },
    {
      "cell_type": "code",
      "execution_count": 74,
      "metadata": {
        "id": "4yo_hfLPXmRQ"
      },
      "outputs": [],
      "source": [
        "import os\n",
        "import zipfile\n",
        "import configparser\n",
        "from pprint import pprint\n",
        "import re\n",
        "\n",
        "from pydrive.auth import GoogleAuth\n",
        "from pydrive.drive import GoogleDrive\n",
        "from google.colab import auth\n",
        "from oauth2client.client import GoogleCredentials\n",
        "\n",
        "import pandas as pd\n",
        "import lxml.html\n",
        "from lxml import etree"
      ]
    },
    {
      "cell_type": "code",
      "execution_count": 14,
      "metadata": {
        "colab": {
          "base_uri": "https://localhost:8080/"
        },
        "id": "RNLmoQ69WRde",
        "outputId": "926137d9-b0e6-4958-a63d-dedb250d3c78"
      },
      "outputs": [
        {
          "data": {
            "text/plain": [
              "['openai_key']"
            ]
          },
          "execution_count": 14,
          "metadata": {},
          "output_type": "execute_result"
        }
      ],
      "source": [
        "conf = configparser.ConfigParser()\n",
        "conf.read(secrets_file)\n",
        "list(conf['secrets'].keys())"
      ]
    },
    {
      "cell_type": "code",
      "execution_count": 21,
      "metadata": {
        "id": "Sx2ajeUQYWet"
      },
      "outputs": [],
      "source": [
        "\n",
        "def extract_zip(zip_path, dest):\n",
        "    os.makedirs(dest, exist_ok=True)\n",
        "    \n",
        "    # Extract the contents of the zip file into the new folder\n",
        "    with zipfile.ZipFile(zip_path, 'r') as zip_ref:\n",
        "        zip_ref.extractall(dest)\n",
        "\n",
        "def extract_from_google_drive(file_name, dest):\n",
        "    # Authenticate and create the PyDrive client\n",
        "    auth.authenticate_user()\n",
        "    gauth = GoogleAuth()\n",
        "    gauth.credentials = GoogleCredentials.get_application_default()\n",
        "    drive = GoogleDrive(gauth)\n",
        "    \n",
        "    # Find the file in Google Drive\n",
        "    file_list = drive.ListFile({'q': f\"title='{file_name}'\"}).GetList()\n",
        "    if len(file_list) == 0:\n",
        "        print(f\"No file named {file_name} found in Google Drive\")\n",
        "        return\n",
        "    \n",
        "    # Download the file to a local temp directory\n",
        "    file_id = file_list[0]['id']\n",
        "    downloaded = drive.CreateFile({'id': file_id})\n",
        "    downloaded.GetContentFile('temp.zip')\n",
        "    \n",
        "    # Check if the downloaded file is a zip file and extract it if it is\n",
        "    if zipfile.is_zipfile('temp.zip'):\n",
        "        extract_zip('temp.zip', dest)\n",
        "    else:\n",
        "        print(f\"{file_name} is not a zip file\")\n",
        "        \n",
        "    # Delete the temp file\n",
        "    os.remove('temp.zip')\n"
      ]
    },
    {
      "cell_type": "code",
      "execution_count": 3,
      "metadata": {
        "id": "hzqUE-Rl6OCa"
      },
      "outputs": [],
      "source": [
        "takeout = '<your takeout zip file>'\n",
        "where = '<where to extract the files>'"
      ]
    },
    {
      "cell_type": "code",
      "execution_count": 5,
      "metadata": {
        "id": "UCspreO0ZYy-"
      },
      "outputs": [],
      "source": [
        "extract_from_google_drive(takeout, where)"
      ]
    },
    {
      "cell_type": "code",
      "execution_count": 18,
      "metadata": {
        "id": "DTAwIrGE5Xj7"
      },
      "outputs": [],
      "source": [
        "data_file = f'{where}Takeout/My Activity/Search/MyActivity.html'"
      ]
    },
    {
      "cell_type": "code",
      "execution_count": null,
      "metadata": {},
      "outputs": [],
      "source": [
        "def extract_sections(html):\n",
        "    parsed = lxml.html.fromstring(html)\n",
        "    outer_cells = parsed.cssselect(\".outer-cell.mdl-cell.mdl-cell--12-col.mdl-shadow--2dp\")\n",
        "    return outer_cells"
      ]
    },
    {
      "cell_type": "code",
      "execution_count": null,
      "metadata": {},
      "outputs": [],
      "source": [
        "with open(data_file, 'r') as f:\n",
        "    html = f.read()\n",
        "    sections = extract_sections(html)\n",
        "    print(f\"Found {len(sections)} sections\")"
      ]
    },
    {
      "cell_type": "code",
      "execution_count": 94,
      "metadata": {
        "id": "MaIB3uaEh15L"
      },
      "outputs": [],
      "source": [
        "data = []\n",
        "bad_entries = []\n",
        "timestamp_pattern = r\"(\\b(?:Jan|Feb|Mar|Apr|May|Jun|Jul|Aug|Sep|Oct|Nov|Dec)\\b \\d{1,2}, \\d{4}, \\d{1,2}:\\d{2}:\\d{2}(?:&#8239;)?(?:AM|PM) (?:EDT|EST|CDT|CST|MDT|MST|PDT|PST))\"\n",
        "for ele in sections:\n",
        "    section_info = {\n",
        "        'heading': ele.find_class('mdl-typography--title')[0].text_content(),\n",
        "    }\n",
        "    \n",
        "    content = ele.find_class('content-cell mdl-cell mdl-cell--6-col mdl-typography--body-1')[0]\n",
        "    content_text  = content.text_content()\n",
        "    section_info['action'] = content_text.partition('\\xa0')[0]\n",
        "    section_info['timestamp'] = re.search(timestamp_pattern, etree.tostring(content).decode('utf8')).group(1).replace('&#8239;', '')\n",
        "\n",
        "    try:\n",
        "        a_tag = content.cssselect('a')[0]\n",
        "        section_info['url'] = a_tag.get('href')\n",
        "        caption = ele.cssselect('div.content-cell.mdl-cell.mdl-cell--12-col.mdl-typography--caption > a')\n",
        "        if len(caption) > 1:\n",
        "            section_info['location'] = caption[0].get('href')\n",
        "        if section_info['action'].startswith('Searched for'):\n",
        "            section_info['search_query'] = a_tag.text_content()\n",
        "        else:\n",
        "            section_info['site_title'] = a_tag.text_content()\n",
        "\n",
        "    except IndexError:\n",
        "        bad_entries.append(ele)\n",
        "\n",
        "    data.append(section_info)\n"
      ]
    },
    {
      "cell_type": "code",
      "execution_count": 121,
      "metadata": {
        "colab": {
          "base_uri": "https://localhost:8080/"
        },
        "id": "cO8zqsSCwap3",
        "outputId": "f09fb301-3bc5-42e5-c326-744aaa485484"
      },
      "outputs": [
        {
          "data": {
            "text/plain": [
              "11155"
            ]
          },
          "execution_count": 121,
          "metadata": {},
          "output_type": "execute_result"
        }
      ],
      "source": [
        "subset = '\\n'.join([f\"search_query: {d['search_query']}\\ntimestamp: {d['timestamp']}\\n\" for d in data if 'search_query' in d][::100])\n",
        "len(subset)\n",
        "# print(subset)"
      ]
    }
  ],
  "metadata": {
    "colab": {
      "provenance": []
    },
    "kernelspec": {
      "display_name": "Python 3",
      "name": "python3"
    },
    "language_info": {
      "name": "python"
    }
  },
  "nbformat": 4,
  "nbformat_minor": 0
}
